{
  "nbformat": 4,
  "nbformat_minor": 0,
  "metadata": {
    "colab": {
      "name": "Week 5 Template.ipynb",
      "provenance": [],
      "collapsed_sections": [],
      "include_colab_link": true
    },
    "kernelspec": {
      "name": "python3",
      "display_name": "Python 3"
    },
    "language_info": {
      "name": "python"
    }
  },
  "cells": [
    {
      "cell_type": "markdown",
      "metadata": {
        "id": "view-in-github",
        "colab_type": "text"
      },
      "source": [
        "<a href=\"https://colab.research.google.com/github/Utkarshika/data601-06-test/blob/main/Week_5_Template.ipynb\" target=\"_parent\"><img src=\"https://colab.research.google.com/assets/colab-badge.svg\" alt=\"Open In Colab\"/></a>"
      ]
    },
    {
      "cell_type": "markdown",
      "metadata": {
        "id": "PppxNrVUbJ8Q"
      },
      "source": [
        "#Problem 1\n",
        " In the example given in class, using the Iris dataset, we predicted the species using only the petal length and width.  Repeat the study adding the sepal width and length (in addition to the petal width and length) as predictors.  Does classification accuracy improve with the additional predictors?"
      ]
    },
    {
      "cell_type": "code",
      "source": [
        "import numpy as np\n",
        "import matplotlib.pyplot as plt\n",
        "from sklearn.datasets import make_blobs\n",
        "from sklearn.model_selection import train_test_split\n",
        "from sklearn.preprocessing import StandardScaler\n",
        "from sklearn.linear_model import LogisticRegression"
      ],
      "metadata": {
        "id": "0FDOUndCxaLS"
      },
      "execution_count": 6,
      "outputs": []
    },
    {
      "cell_type": "code",
      "source": [
        "from sklearn.datasets import load_iris\n",
        "from sklearn.multiclass import OneVsOneClassifier\n",
        "from sklearn.preprocessing import MinMaxScaler"
      ],
      "metadata": {
        "id": "JRBRmVT6ANZV"
      },
      "execution_count": 7,
      "outputs": []
    },
    {
      "cell_type": "code",
      "source": [
        "iris = load_iris()\n",
        "X = iris.data[50:, :]\n",
        "y = iris.target[50:]\n",
        "X_train, X_test, y_train, y_test = train_test_split(X, y, test_size=0.2)\n",
        "scaler = MinMaxScaler()\n",
        "X_train = scaler.fit_transform(X_train)\n",
        "X_test = scaler.transform(X_test)"
      ],
      "metadata": {
        "id": "TP66WPqExG8J"
      },
      "execution_count": 16,
      "outputs": []
    },
    {
      "cell_type": "code",
      "source": [
        "#we will discuss the penalty parameter later\n",
        "model = LogisticRegression(penalty='none')\n",
        "model.fit(X_train, y_train)"
      ],
      "metadata": {
        "id": "ld5aLO6RxKFt",
        "outputId": "263dff8b-ab7f-44e2-d6c8-89db3eaa6b4f",
        "colab": {
          "base_uri": "https://localhost:8080/"
        }
      },
      "execution_count": 17,
      "outputs": [
        {
          "output_type": "execute_result",
          "data": {
            "text/plain": [
              "LogisticRegression(penalty='none')"
            ]
          },
          "metadata": {},
          "execution_count": 17
        }
      ]
    },
    {
      "cell_type": "code",
      "source": [
        "model.score(X_train, y_train)"
      ],
      "metadata": {
        "id": "yNRv5exIxNBa",
        "outputId": "fcaef00e-e465-4177-b444-91b63bed00f1",
        "colab": {
          "base_uri": "https://localhost:8080/"
        }
      },
      "execution_count": 18,
      "outputs": [
        {
          "output_type": "execute_result",
          "data": {
            "text/plain": [
              "1.0"
            ]
          },
          "metadata": {},
          "execution_count": 18
        }
      ]
    },
    {
      "cell_type": "code",
      "source": [
        "model.score(X_test, y_test)"
      ],
      "metadata": {
        "id": "SbVlkpk7xPzi",
        "outputId": "7416573d-2410-4319-a8f0-7f0973082acd",
        "colab": {
          "base_uri": "https://localhost:8080/"
        }
      },
      "execution_count": 19,
      "outputs": [
        {
          "output_type": "execute_result",
          "data": {
            "text/plain": [
              "0.95"
            ]
          },
          "metadata": {},
          "execution_count": 19
        }
      ]
    },
    {
      "cell_type": "code",
      "source": [
        ""
      ],
      "metadata": {
        "id": "LP6aI58hxPq8"
      },
      "execution_count": null,
      "outputs": []
    },
    {
      "cell_type": "markdown",
      "metadata": {
        "id": "oZJj-88Cp_sB"
      },
      "source": [
        "#Problem 2\n",
        "In the example given in class, we used a logistic regression (`LogisticRegression`) classifier to classify digits.  Continuing on the example presented in class that uses the MNIST 784 dataset, use the classifier to classify whether a digit is a 3.  The classifier includes the hyperparameter $C$ where $10^{-4}\\lessapprox C \\lessapprox 10^4$.  This parameter defines the regularization strength, the meaning of which we will discuss later in this course.  Experiment with at least 4 different values of this hyperparameter across different orders of magnitude.  What value of $C$ produces the highest $F_1$ scores?\n",
        "\n",
        "**Notes:**\n",
        "\n",
        "* While you can compute different values manually, the `GridSearchCV` or randomized search class is recommended.\n",
        "* HPO may require about 1 hour in Colab using the full dataset of 60,000 records, with training time increasing as $C$ increases.  You can use a smaller subset of the training dataset if needed.\n",
        "* If you receive a message that the mode failed to converge due to maximum number of iterations being reached, increase the `max_iter` hyperparameter of the logistic regression classifier.  You may need several thousand iterations for convergence."
      ]
    },
    {
      "cell_type": "code",
      "source": [
        ""
      ],
      "metadata": {
        "id": "4uRsDoaTAcP6"
      },
      "execution_count": null,
      "outputs": []
    },
    {
      "cell_type": "markdown",
      "metadata": {
        "id": "lFBsPPFT2d76"
      },
      "source": [
        "## Problem 3\n",
        "Generate and plot the precision-recall curve for the highest-performing model you identified in the previous question."
      ]
    },
    {
      "cell_type": "code",
      "source": [
        ""
      ],
      "metadata": {
        "id": "SnLrueUqAmAr"
      },
      "execution_count": null,
      "outputs": []
    }
  ]
}