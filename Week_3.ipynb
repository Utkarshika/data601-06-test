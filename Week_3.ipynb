{
  "nbformat": 4,
  "nbformat_minor": 0,
  "metadata": {
    "colab": {
      "name": "Updated - Week 3 Template.ipynb",
      "provenance": [],
      "collapsed_sections": [],
      "include_colab_link": true
    },
    "kernelspec": {
      "name": "python3",
      "display_name": "Python 3"
    },
    "language_info": {
      "name": "python"
    }
  },
  "cells": [
    {
      "cell_type": "markdown",
      "metadata": {
        "id": "view-in-github",
        "colab_type": "text"
      },
      "source": [
        "<a href=\"https://colab.research.google.com/github/Utkarshika/data601-06-test/blob/main/Week_3.ipynb\" target=\"_parent\"><img src=\"https://colab.research.google.com/assets/colab-badge.svg\" alt=\"Open In Colab\"/></a>"
      ]
    },
    {
      "cell_type": "markdown",
      "metadata": {
        "id": "wxKNgUhRLAwD"
      },
      "source": [
        "# Solution - Problem Set 3"
      ]
    },
    {
      "cell_type": "markdown",
      "metadata": {
        "id": "nS4C_IlTLEvi"
      },
      "source": [
        "## Preparation"
      ]
    },
    {
      "cell_type": "code",
      "metadata": {
        "id": "bQfLZodhATzm"
      },
      "source": [
        "import pandas as pd\n",
        "import numpy as np\n",
        "import matplotlib.pyplot as plt\n",
        "import seaborn as sns\n",
        "from datetime import datetime\n",
        "import pytz"
      ],
      "execution_count": null,
      "outputs": []
    },
    {
      "cell_type": "markdown",
      "metadata": {
        "id": "I5jS0IbE9Lj7"
      },
      "source": [
        "###Import data"
      ]
    },
    {
      "cell_type": "code",
      "metadata": {
        "colab": {
          "base_uri": "https://localhost:8080/"
        },
        "id": "bxyfs1edBLuT",
        "outputId": "6859e922-77f4-40bc-a888-89be697e6c8d"
      },
      "source": [
        "from google.colab import drive\n",
        "drive.mount(\"/content/drive\")\n",
        "!mkdir -p datashim\n",
        "!cp /content/drive/Shareddrives/DS602-S22/Data/data602.py ./datashim\n",
        "from datashim import data602"
      ],
      "execution_count": null,
      "outputs": [
        {
          "output_type": "stream",
          "name": "stdout",
          "text": [
            "Mounted at /content/drive\n"
          ]
        }
      ]
    },
    {
      "cell_type": "code",
      "metadata": {
        "id": "k6KwqWpM5VqR"
      },
      "source": [
        "# CDF only needed if used for #1\n",
        "#cdf = data602.read_citations('/content/drive/Shareddrives/DS602-S22/Data/Parking_and_Moving_Citations.csv')\n",
        "wdf = data602.read_weather('/content/drive/Shareddrives/DS602-S22/Data/weather_clean.csv')"
      ],
      "execution_count": null,
      "outputs": []
    },
    {
      "cell_type": "markdown",
      "metadata": {
        "id": "ukRW9IhlWBbt"
      },
      "source": [
        "# Question 1 -- Statistical data visualization \n",
        "In the first assignment, problem 3, you identified an ``interesting'' pattern in the weather or citations dataset.  Recall that discovered knowledge should be novel, useful, and non-trivial.  Develop a explanatory visualization to present the knowledge you discovered.  (You may choose a different pattern from the one you used in the first homework assignment if you wish.) "
      ]
    },
    {
      "cell_type": "code",
      "source": [
        ""
      ],
      "metadata": {
        "id": "bW-RcZgBC_kF"
      },
      "execution_count": null,
      "outputs": []
    },
    {
      "cell_type": "markdown",
      "source": [
        "#Question 2 -- Data preparation\n",
        "\n",
        "This problem uses the weather dataset from previous problem sets.  Prepare a dataset to predict the observed temperature from the following predictors:\n",
        "\n",
        "* The non-temperature fields from the observation\n",
        "* The temperature recorded in the prior observation\n",
        "\n",
        "Beginning with the weather dataset:\n",
        "\n",
        "a. Add the temperature from the prior reading as a new feature.  That is, for each observation at time $t_k$, $k>0$, the new feature should have the value of the temperature reading at time $t_{k-1}$.  For the first observation ($k=0$), the value should be missing because the prior temperature is unknown.\n"
      ],
      "metadata": {
        "id": "--feTK_aDAm8"
      }
    },
    {
      "cell_type": "code",
      "source": [
        ""
      ],
      "metadata": {
        "id": "velz7IrjDUl2"
      },
      "execution_count": null,
      "outputs": []
    },
    {
      "cell_type": "markdown",
      "source": [
        "b. Because the observed temperature is the target variable, remove the current temperature from the data frame, and save the values into a matrix $\\mathbf{y}$"
      ],
      "metadata": {
        "id": "b_1ing8MDT_e"
      }
    },
    {
      "cell_type": "code",
      "source": [
        ""
      ],
      "metadata": {
        "id": "NCzG7CuhDVm3"
      },
      "execution_count": null,
      "outputs": []
    },
    {
      "cell_type": "markdown",
      "source": [
        "c. Treat missing values in the dataframe so that the output dataset contains no missing values.  In the notebook, explain your approach to treat missing values."
      ],
      "metadata": {
        "id": "q-LHfdKQDXso"
      }
    },
    {
      "cell_type": "code",
      "source": [
        ""
      ],
      "metadata": {
        "id": "2tE_hJeTDZ8G"
      },
      "execution_count": null,
      "outputs": []
    },
    {
      "cell_type": "markdown",
      "source": [
        "d. Remove the observation timestamp, and convert the dataframe to a numpy matrix, $\\mathbf{X}$"
      ],
      "metadata": {
        "id": "31UggZ1CDaUG"
      }
    },
    {
      "cell_type": "code",
      "source": [
        ""
      ],
      "metadata": {
        "id": "zCalwXPaDbxF"
      },
      "execution_count": null,
      "outputs": []
    },
    {
      "cell_type": "markdown",
      "source": [
        "e. Scale the numpy array $\\mathbf{X}$ using a [`StandardScaler`](https://scikit-learn.org/stable/modules/generated/sklearn.preprocessing.StandardScaler.html)."
      ],
      "metadata": {
        "id": "YxUPHDZvDcWl"
      }
    },
    {
      "cell_type": "code",
      "source": [
        ""
      ],
      "metadata": {
        "id": "_hkUqCe0DtJs"
      },
      "execution_count": null,
      "outputs": []
    },
    {
      "cell_type": "markdown",
      "source": [
        "Show the first few rows of the resulting matrices $\\mathbf{X}$ and $\\mathbf{y}$."
      ],
      "metadata": {
        "id": "Jl6Jl4MbDtjw"
      }
    },
    {
      "cell_type": "code",
      "source": [
        ""
      ],
      "metadata": {
        "id": "wOVkuZO1D0E_"
      },
      "execution_count": null,
      "outputs": []
    }
  ]
}